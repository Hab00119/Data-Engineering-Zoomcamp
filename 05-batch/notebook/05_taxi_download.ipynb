{
 "cells": [
  {
   "cell_type": "code",
   "execution_count": 4,
   "id": "6a8b1a80-657a-4697-a5ef-43a605289da6",
   "metadata": {},
   "outputs": [
    {
     "name": "stdout",
     "output_type": "stream",
     "text": [
      "2025-03-03 05:28:04,677 - INFO - Downloading CSV.GZ file: yellow_tripdata_2020-01.csv.gz\n",
      "2025-03-03 05:28:04,677 - INFO - Downloading from https://github.com/DataTalksClub/nyc-tlc-data/releases/download/yellow/yellow_tripdata_2020-01.csv.gz to data/raw/yellow/2020/01/yellow_tripdata_2020-01.csv.gz\n",
      "2025-03-03 05:28:04,678 - INFO - Downloading CSV.GZ file: yellow_tripdata_2020-02.csv.gz\n",
      "2025-03-03 05:28:04,678 - INFO - Downloading from https://github.com/DataTalksClub/nyc-tlc-data/releases/download/yellow/yellow_tripdata_2020-02.csv.gz to data/raw/yellow/2020/02/yellow_tripdata_2020-02.csv.gz\n",
      "2025-03-03 05:28:04,679 - INFO - Downloading CSV.GZ file: yellow_tripdata_2020-03.csv.gz\n",
      "2025-03-03 05:28:04,679 - INFO - Downloading from https://github.com/DataTalksClub/nyc-tlc-data/releases/download/yellow/yellow_tripdata_2020-03.csv.gz to data/raw/yellow/2020/03/yellow_tripdata_2020-03.csv.gz\n",
      "2025-03-03 05:28:04,680 - INFO - Downloading CSV.GZ file: yellow_tripdata_2020-04.csv.gz\n",
      "2025-03-03 05:28:04,680 - INFO - Downloading from https://github.com/DataTalksClub/nyc-tlc-data/releases/download/yellow/yellow_tripdata_2020-04.csv.gz to data/raw/yellow/2020/04/yellow_tripdata_2020-04.csv.gz\n",
      "2025-03-03 05:28:05,234 - INFO - Successfully downloaded yellow_tripdata_2020-04.csv.gz to data/raw/yellow/2020/04/yellow_tripdata_2020-04.csv.gz\n",
      "2025-03-03 05:28:05,234 - INFO - Downloading CSV.GZ file: yellow_tripdata_2020-05.csv.gz\n",
      "2025-03-03 05:28:05,234 - INFO - Downloading from https://github.com/DataTalksClub/nyc-tlc-data/releases/download/yellow/yellow_tripdata_2020-05.csv.gz to data/raw/yellow/2020/05/yellow_tripdata_2020-05.csv.gz\n",
      "2025-03-03 05:28:05,878 - INFO - Successfully downloaded yellow_tripdata_2020-05.csv.gz to data/raw/yellow/2020/05/yellow_tripdata_2020-05.csv.gz\n",
      "2025-03-03 05:28:05,878 - INFO - Downloading CSV.GZ file: yellow_tripdata_2020-06.csv.gz\n",
      "2025-03-03 05:28:05,878 - INFO - Downloading from https://github.com/DataTalksClub/nyc-tlc-data/releases/download/yellow/yellow_tripdata_2020-06.csv.gz to data/raw/yellow/2020/06/yellow_tripdata_2020-06.csv.gz\n",
      "2025-03-03 05:28:06,636 - INFO - Successfully downloaded yellow_tripdata_2020-06.csv.gz to data/raw/yellow/2020/06/yellow_tripdata_2020-06.csv.gz\n",
      "2025-03-03 05:28:06,636 - INFO - Downloading CSV.GZ file: yellow_tripdata_2020-07.csv.gz\n",
      "2025-03-03 05:28:06,636 - INFO - Downloading from https://github.com/DataTalksClub/nyc-tlc-data/releases/download/yellow/yellow_tripdata_2020-07.csv.gz to data/raw/yellow/2020/07/yellow_tripdata_2020-07.csv.gz\n",
      "2025-03-03 05:28:06,867 - INFO - Successfully downloaded yellow_tripdata_2020-03.csv.gz to data/raw/yellow/2020/03/yellow_tripdata_2020-03.csv.gz\n",
      "2025-03-03 05:28:06,868 - INFO - Downloading CSV.GZ file: yellow_tripdata_2020-08.csv.gz\n",
      "2025-03-03 05:28:06,868 - INFO - Downloading from https://github.com/DataTalksClub/nyc-tlc-data/releases/download/yellow/yellow_tripdata_2020-08.csv.gz to data/raw/yellow/2020/08/yellow_tripdata_2020-08.csv.gz\n",
      "2025-03-03 05:28:07,550 - INFO - Successfully downloaded yellow_tripdata_2020-07.csv.gz to data/raw/yellow/2020/07/yellow_tripdata_2020-07.csv.gz\n",
      "2025-03-03 05:28:07,550 - INFO - Downloading CSV.GZ file: yellow_tripdata_2020-09.csv.gz\n",
      "2025-03-03 05:28:07,550 - INFO - Downloading from https://github.com/DataTalksClub/nyc-tlc-data/releases/download/yellow/yellow_tripdata_2020-09.csv.gz to data/raw/yellow/2020/09/yellow_tripdata_2020-09.csv.gz\n",
      "2025-03-03 05:28:07,877 - INFO - Successfully downloaded yellow_tripdata_2020-08.csv.gz to data/raw/yellow/2020/08/yellow_tripdata_2020-08.csv.gz\n",
      "2025-03-03 05:28:07,877 - INFO - Downloading CSV.GZ file: yellow_tripdata_2020-10.csv.gz\n",
      "2025-03-03 05:28:07,877 - INFO - Downloading from https://github.com/DataTalksClub/nyc-tlc-data/releases/download/yellow/yellow_tripdata_2020-10.csv.gz to data/raw/yellow/2020/10/yellow_tripdata_2020-10.csv.gz\n",
      "2025-03-03 05:28:08,665 - INFO - Successfully downloaded yellow_tripdata_2020-02.csv.gz to data/raw/yellow/2020/02/yellow_tripdata_2020-02.csv.gz\n",
      "2025-03-03 05:28:08,665 - INFO - Downloading CSV.GZ file: yellow_tripdata_2020-11.csv.gz\n",
      "2025-03-03 05:28:08,665 - INFO - Downloading from https://github.com/DataTalksClub/nyc-tlc-data/releases/download/yellow/yellow_tripdata_2020-11.csv.gz to data/raw/yellow/2020/11/yellow_tripdata_2020-11.csv.gz\n",
      "2025-03-03 05:28:08,728 - INFO - Successfully downloaded yellow_tripdata_2020-01.csv.gz to data/raw/yellow/2020/01/yellow_tripdata_2020-01.csv.gz\n",
      "2025-03-03 05:28:08,728 - INFO - Downloading CSV.GZ file: yellow_tripdata_2020-12.csv.gz\n",
      "2025-03-03 05:28:08,728 - INFO - Downloading from https://github.com/DataTalksClub/nyc-tlc-data/releases/download/yellow/yellow_tripdata_2020-12.csv.gz to data/raw/yellow/2020/12/yellow_tripdata_2020-12.csv.gz\n",
      "2025-03-03 05:28:08,729 - INFO - Successfully processed month 1\n",
      "2025-03-03 05:28:08,729 - INFO - Successfully processed month 2\n",
      "2025-03-03 05:28:08,730 - INFO - Successfully processed month 3\n",
      "2025-03-03 05:28:08,730 - INFO - Successfully processed month 4\n",
      "2025-03-03 05:28:08,730 - INFO - Successfully processed month 5\n",
      "2025-03-03 05:28:08,730 - INFO - Successfully processed month 6\n",
      "2025-03-03 05:28:08,730 - INFO - Successfully processed month 7\n",
      "2025-03-03 05:28:08,730 - INFO - Successfully processed month 8\n",
      "2025-03-03 05:28:08,749 - INFO - Successfully downloaded yellow_tripdata_2020-09.csv.gz to data/raw/yellow/2020/09/yellow_tripdata_2020-09.csv.gz\n",
      "2025-03-03 05:28:08,750 - INFO - Successfully processed month 9\n",
      "2025-03-03 05:28:08,871 - INFO - Successfully downloaded yellow_tripdata_2020-10.csv.gz to data/raw/yellow/2020/10/yellow_tripdata_2020-10.csv.gz\n",
      "2025-03-03 05:28:08,871 - INFO - Successfully processed month 10\n",
      "2025-03-03 05:28:09,298 - INFO - Successfully downloaded yellow_tripdata_2020-11.csv.gz to data/raw/yellow/2020/11/yellow_tripdata_2020-11.csv.gz\n",
      "2025-03-03 05:28:09,298 - INFO - Successfully processed month 11\n",
      "2025-03-03 05:28:09,334 - INFO - Successfully downloaded yellow_tripdata_2020-12.csv.gz to data/raw/yellow/2020/12/yellow_tripdata_2020-12.csv.gz\n",
      "2025-03-03 05:28:09,334 - INFO - Successfully processed month 12\n",
      "\n",
      "Download Summary:\n",
      "Successfully downloaded months: [1, 2, 3, 4, 5, 6, 7, 8, 9, 10, 11, 12]\n",
      "Total successful: 12\n",
      "Total failed: 0\n",
      "Files saved to: data/raw\n"
     ]
    }
   ],
   "source": [
    "!python download_taxi_data.py \\\n",
    "     --output-dir data/raw \\\n",
    "     --base-url \"https://github.com/DataTalksClub/nyc-tlc-data/releases/download/yellow\" \\\n",
    "     --service-type yellow \\\n",
    "     --year 2020 \\\n",
    "     --start-month 1 \\\n",
    "     --end-month 12 \\\n",
    "     --file-format csv.gz \\\n",
    "     --workers 4"
   ]
  },
  {
   "cell_type": "code",
   "execution_count": null,
   "id": "390869d3-b25e-47ac-bd30-5d5b0c1cf0ce",
   "metadata": {},
   "outputs": [],
   "source": [
    "#use tree data   to view data structure, sudo apt-get install tree"
   ]
  },
  {
   "cell_type": "code",
   "execution_count": null,
   "id": "eee61206-647c-42a2-b7a1-25a9d768709d",
   "metadata": {},
   "outputs": [],
   "source": []
  },
  {
   "cell_type": "markdown",
   "id": "8a1e870c-a37e-4278-a98c-04b4037b64d0",
   "metadata": {},
   "source": [
    "## Homework data"
   ]
  },
  {
   "cell_type": "code",
   "execution_count": 1,
   "id": "d19cca00-f9bd-44da-b416-4ef252df1751",
   "metadata": {},
   "outputs": [
    {
     "name": "stdout",
     "output_type": "stream",
     "text": [
      "2025-03-06 06:36:49,100 - INFO - Downloading Parquet file: yellow_tripdata_2024-09.parquet\n",
      "2025-03-06 06:36:49,101 - INFO - Downloading from https://d37ci6vzurychx.cloudfront.net/trip-data/yellow_tripdata_2024-09.parquet to data/hw/yellow/2024/09/yellow_tripdata_2024-09.parquet\n",
      "2025-03-06 06:36:49,101 - INFO - Downloading Parquet file: yellow_tripdata_2024-10.parquet\n",
      "2025-03-06 06:36:49,102 - INFO - Downloading from https://d37ci6vzurychx.cloudfront.net/trip-data/yellow_tripdata_2024-10.parquet to data/hw/yellow/2024/10/yellow_tripdata_2024-10.parquet\n",
      "2025-03-06 06:36:50,281 - INFO - Successfully downloaded yellow_tripdata_2024-10.parquet to data/hw/yellow/2024/10/yellow_tripdata_2024-10.parquet\n",
      "2025-03-06 06:36:50,798 - INFO - Successfully downloaded yellow_tripdata_2024-09.parquet to data/hw/yellow/2024/09/yellow_tripdata_2024-09.parquet\n",
      "2025-03-06 06:36:50,798 - INFO - Successfully processed month 9\n",
      "2025-03-06 06:36:50,799 - INFO - Successfully processed month 10\n",
      "\n",
      "Download Summary:\n",
      "Successfully downloaded months: [9, 10]\n",
      "Total successful: 2\n",
      "Total failed: 0\n",
      "Files saved to: data/hw\n"
     ]
    }
   ],
   "source": [
    "!python download_taxi_data.py \\\n",
    "     --output-dir data/hw \\\n",
    "     --base-url \"https://d37ci6vzurychx.cloudfront.net/trip-data\" \\\n",
    "     --service-type yellow \\\n",
    "     --year 2024 \\\n",
    "     --start-month 09 \\\n",
    "     --end-month 10 \\\n",
    "     --file-format parquet \\\n",
    "     --workers 4"
   ]
  }
 ],
 "metadata": {
  "kernelspec": {
   "display_name": "Python 3 (ipykernel)",
   "language": "python",
   "name": "python3"
  },
  "language_info": {
   "codemirror_mode": {
    "name": "ipython",
    "version": 3
   },
   "file_extension": ".py",
   "mimetype": "text/x-python",
   "name": "python",
   "nbconvert_exporter": "python",
   "pygments_lexer": "ipython3",
   "version": "3.12.7"
  }
 },
 "nbformat": 4,
 "nbformat_minor": 5
}

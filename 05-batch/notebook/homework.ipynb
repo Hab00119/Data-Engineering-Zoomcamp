{
 "cells": [
  {
   "cell_type": "code",
   "execution_count": 1,
   "id": "301d1d40-2f20-4319-966b-aeccffc742df",
   "metadata": {},
   "outputs": [],
   "source": [
    "import pyspark\n",
    "from pyspark.sql import SparkSession"
   ]
  },
  {
   "cell_type": "code",
   "execution_count": 2,
   "id": "ac962f11-a273-4868-af7b-aa7cfe13bf5c",
   "metadata": {},
   "outputs": [
    {
     "name": "stderr",
     "output_type": "stream",
     "text": [
      "Setting default log level to \"WARN\".\n",
      "To adjust logging level use sc.setLogLevel(newLevel). For SparkR, use setLogLevel(newLevel).\n",
      "25/03/06 12:35:51 WARN NativeCodeLoader: Unable to load native-hadoop library for your platform... using builtin-java classes where applicable\n"
     ]
    }
   ],
   "source": [
    "spark = SparkSession.builder \\\n",
    "    .master(\"local[*]\") \\\n",
    "    .appName('test') \\\n",
    "    .getOrCreate()"
   ]
  },
  {
   "cell_type": "markdown",
   "id": "506edcb6-50be-4876-a6ce-19e93b88fab7",
   "metadata": {},
   "source": [
    "## Q1 Execute spark.version. What's the output?"
   ]
  },
  {
   "cell_type": "code",
   "execution_count": 3,
   "id": "0272592c-de7f-4d3b-bc38-02a05c622d0f",
   "metadata": {},
   "outputs": [
    {
     "data": {
      "text/plain": [
       "'3.5.5'"
      ]
     },
     "execution_count": 3,
     "metadata": {},
     "output_type": "execute_result"
    }
   ],
   "source": [
    "spark.version"
   ]
  },
  {
   "cell_type": "markdown",
   "id": "fab5e165-d51a-4537-a174-ed1dc4653a7e",
   "metadata": {},
   "source": [
    "## Q2 Read the October 2024 Yellow into a Spark Dataframe.\n",
    "\n",
    "Repartition the Dataframe to 4 partitions and save it to parquet.\n",
    "\n",
    "What is the average size of the Parquet (ending with .parquet extension) Files that were created (in MB)? Select the answer which most closely matches."
   ]
  },
  {
   "cell_type": "code",
   "execution_count": 3,
   "id": "b133a467-c4e1-445d-8340-4252ea749765",
   "metadata": {},
   "outputs": [
    {
     "name": "stderr",
     "output_type": "stream",
     "text": [
      "                                                                                \r"
     ]
    }
   ],
   "source": [
    "# recursively read all data under yellow/2024/10/\n",
    "df_yellow = spark.read \\\n",
    "    .option(\"header\", \"true\") \\\n",
    "    .parquet('data/hw/yellow/2024/10/')"
   ]
  },
  {
   "cell_type": "code",
   "execution_count": 6,
   "id": "79118ce0-0797-4dee-a994-11f1259aef51",
   "metadata": {},
   "outputs": [
    {
     "name": "stdout",
     "output_type": "stream",
     "text": [
      "+--------+-----------+\n",
      "|VendorID|Airport_fee|\n",
      "+--------+-----------+\n",
      "|       2|        0.0|\n",
      "|       1|        0.0|\n",
      "|       1|        0.0|\n",
      "|       1|        0.0|\n",
      "|       1|        0.0|\n",
      "|       2|        0.0|\n",
      "|       1|        0.0|\n",
      "|       1|        0.0|\n",
      "|       1|        0.0|\n",
      "|       1|        0.0|\n",
      "|       1|        0.0|\n",
      "|       2|        0.0|\n",
      "|       2|        0.0|\n",
      "|       2|        0.0|\n",
      "|       2|        0.0|\n",
      "|       1|        0.0|\n",
      "|       1|       1.75|\n",
      "|       2|        0.0|\n",
      "|       2|        0.0|\n",
      "|       2|        0.0|\n",
      "+--------+-----------+\n",
      "only showing top 20 rows\n",
      "\n"
     ]
    }
   ],
   "source": [
    "df_yellow \\\n",
    "    .select('VendorID', 'Airport_fee') \\\n",
    "    .show()"
   ]
  },
  {
   "cell_type": "code",
   "execution_count": 5,
   "id": "05fcaf97-2543-43b0-b900-52d290536b25",
   "metadata": {},
   "outputs": [
    {
     "name": "stdout",
     "output_type": "stream",
     "text": [
      "root\n",
      " |-- VendorID: integer (nullable = true)\n",
      " |-- tpep_pickup_datetime: timestamp_ntz (nullable = true)\n",
      " |-- tpep_dropoff_datetime: timestamp_ntz (nullable = true)\n",
      " |-- passenger_count: long (nullable = true)\n",
      " |-- trip_distance: double (nullable = true)\n",
      " |-- RatecodeID: long (nullable = true)\n",
      " |-- store_and_fwd_flag: string (nullable = true)\n",
      " |-- PULocationID: integer (nullable = true)\n",
      " |-- DOLocationID: integer (nullable = true)\n",
      " |-- payment_type: long (nullable = true)\n",
      " |-- fare_amount: double (nullable = true)\n",
      " |-- extra: double (nullable = true)\n",
      " |-- mta_tax: double (nullable = true)\n",
      " |-- tip_amount: double (nullable = true)\n",
      " |-- tolls_amount: double (nullable = true)\n",
      " |-- improvement_surcharge: double (nullable = true)\n",
      " |-- total_amount: double (nullable = true)\n",
      " |-- congestion_surcharge: double (nullable = true)\n",
      " |-- Airport_fee: double (nullable = true)\n",
      "\n"
     ]
    }
   ],
   "source": [
    "df_yellow.printSchema()"
   ]
  },
  {
   "cell_type": "code",
   "execution_count": 7,
   "id": "9d12e938-f993-4494-95eb-6048189c06f3",
   "metadata": {},
   "outputs": [],
   "source": [
    "from pyspark.sql.types import StructType, StructField, LongType, StringType, DoubleType, IntegerType, TimestampType"
   ]
  },
  {
   "cell_type": "code",
   "execution_count": 8,
   "id": "95b430fe-1b3e-4cb3-8566-8798da72a836",
   "metadata": {},
   "outputs": [],
   "source": [
    "yellow_schema = StructType([StructField('VendorID', IntegerType(), True), \n",
    "            StructField('tpep_pickup_datetime', TimestampType(), True), \n",
    "            StructField('tpep_dropoff_datetime', TimestampType(), True), \n",
    "            StructField('passenger_count', IntegerType(), True), \n",
    "            StructField('trip_distance', DoubleType(), True), \n",
    "            StructField('RatecodeID', IntegerType(), True), \n",
    "            StructField('store_and_fwd_flag', StringType(), True), \n",
    "            StructField('PULocationID', IntegerType(), True), \n",
    "            StructField('DOLocationID', IntegerType(), True), \n",
    "            StructField('payment_type', LongType(), True), \n",
    "            StructField('fare_amount', DoubleType(), True), \n",
    "            StructField('extra', DoubleType(), True), \n",
    "            StructField('mta_tax', DoubleType(), True), \n",
    "            StructField('tip_amount', DoubleType(), True), \n",
    "            StructField('tolls_amount', DoubleType(), True), \n",
    "            StructField('improvement_surcharge', DoubleType(), True), \n",
    "            StructField('total_amount', DoubleType(), True), \n",
    "            StructField('congestion_surcharge', DoubleType(), True),\n",
    "            StructField('Airport_fee', DoubleType(), True)])"
   ]
  },
  {
   "cell_type": "code",
   "execution_count": 9,
   "id": "c243fb4b-53d8-46d8-9773-b747435ff01e",
   "metadata": {},
   "outputs": [
    {
     "name": "stderr",
     "output_type": "stream",
     "text": [
      "                                                                                \r"
     ]
    }
   ],
   "source": [
    "df_yellow \\\n",
    "    .repartition(4) \\\n",
    "    .write.parquet('data/hwpq/yellow/2024/10/')"
   ]
  },
  {
   "cell_type": "code",
   "execution_count": 11,
   "id": "2f5f1969-5b9d-4705-ba6f-d6ff4166b737",
   "metadata": {},
   "outputs": [
    {
     "data": {
      "text/plain": [
       "'/home/hammedgcp/notebooks'"
      ]
     },
     "execution_count": 11,
     "metadata": {},
     "output_type": "execute_result"
    }
   ],
   "source": [
    "pwd"
   ]
  },
  {
   "cell_type": "code",
   "execution_count": 13,
   "id": "d16294b8-31e6-4761-b9f4-08792936e28d",
   "metadata": {},
   "outputs": [
    {
     "name": "stdout",
     "output_type": "stream",
     "text": [
      "-rw-r--r-- 1 hammedgcp hammedgcp 23M Mar  6 06:55 /home/hammedgcp/notebooks/data/hwpq/yellow/2024/10/part-00000-cc00e658-e29d-476d-a6e0-bf571b1c9a89-c000.snappy.parquet\n",
      "-rw-r--r-- 1 hammedgcp hammedgcp 23M Mar  6 06:55 /home/hammedgcp/notebooks/data/hwpq/yellow/2024/10/part-00001-cc00e658-e29d-476d-a6e0-bf571b1c9a89-c000.snappy.parquet\n",
      "-rw-r--r-- 1 hammedgcp hammedgcp 23M Mar  6 06:55 /home/hammedgcp/notebooks/data/hwpq/yellow/2024/10/part-00002-cc00e658-e29d-476d-a6e0-bf571b1c9a89-c000.snappy.parquet\n",
      "-rw-r--r-- 1 hammedgcp hammedgcp 23M Mar  6 06:55 /home/hammedgcp/notebooks/data/hwpq/yellow/2024/10/part-00003-cc00e658-e29d-476d-a6e0-bf571b1c9a89-c000.snappy.parquet\n"
     ]
    }
   ],
   "source": [
    "!ls -lh /home/hammedgcp/notebooks/data/hwpq/yellow/2024/10/*.parquet"
   ]
  },
  {
   "cell_type": "code",
   "execution_count": 17,
   "id": "bf5771a7-0d55-4269-92d1-31c16628c2ce",
   "metadata": {},
   "outputs": [
    {
     "name": "stdout",
     "output_type": "stream",
     "text": [
      "total 90M\n",
      "-rw-r--r-- 1 hammedgcp hammedgcp   0 Mar  6 06:55 _SUCCESS\n",
      "-rw-r--r-- 1 hammedgcp hammedgcp 23M Mar  6 06:55 part-00000-cc00e658-e29d-476d-a6e0-bf571b1c9a89-c000.snappy.parquet\n",
      "-rw-r--r-- 1 hammedgcp hammedgcp 23M Mar  6 06:55 part-00001-cc00e658-e29d-476d-a6e0-bf571b1c9a89-c000.snappy.parquet\n",
      "-rw-r--r-- 1 hammedgcp hammedgcp 23M Mar  6 06:55 part-00002-cc00e658-e29d-476d-a6e0-bf571b1c9a89-c000.snappy.parquet\n",
      "-rw-r--r-- 1 hammedgcp hammedgcp 23M Mar  6 06:55 part-00003-cc00e658-e29d-476d-a6e0-bf571b1c9a89-c000.snappy.parquet\n"
     ]
    }
   ],
   "source": [
    "!ls -lh /home/hammedgcp/notebooks/data/hwpq/yellow/2024/10/"
   ]
  },
  {
   "cell_type": "code",
   "execution_count": 16,
   "id": "00b033be-7bc4-46e7-a465-fdf8e2b60d4e",
   "metadata": {},
   "outputs": [
    {
     "name": "stdout",
     "output_type": "stream",
     "text": [
      "23 MB\n"
     ]
    }
   ],
   "source": [
    "!ls -lh /home/hammedgcp/notebooks/data/hwpq/yellow/2024/10/*.parquet | awk '{if (NR>1) {size=$5; gsub(\"M\",\"\",size); total+=size; count++}} END {if (count>0) print total/count, \"MB\"; else print \"No Parquet files found\"}'"
   ]
  },
  {
   "cell_type": "markdown",
   "id": "5bd06f28-d54b-4266-b456-caa8d0b4e5a3",
   "metadata": {},
   "source": [
    "## Q3 How many taxi trips were there on the 15th of October?"
   ]
  },
  {
   "cell_type": "code",
   "execution_count": 4,
   "id": "0460f3e0-330a-434c-a476-61aefcdcfd15",
   "metadata": {},
   "outputs": [
    {
     "name": "stderr",
     "output_type": "stream",
     "text": [
      "                                                                                \r"
     ]
    }
   ],
   "source": [
    "df = spark.read.parquet('data/hwpq/yellow/2024/10/')"
   ]
  },
  {
   "cell_type": "code",
   "execution_count": 5,
   "id": "2bcb73f4-3d36-4a47-8147-4c385f24dc71",
   "metadata": {},
   "outputs": [],
   "source": [
    "from pyspark.sql import functions as F"
   ]
  },
  {
   "cell_type": "code",
   "execution_count": 6,
   "id": "9ff56fde-7994-4d59-8ed0-3bf1ddb4d62d",
   "metadata": {},
   "outputs": [
    {
     "name": "stderr",
     "output_type": "stream",
     "text": [
      "                                                                                \r"
     ]
    },
    {
     "data": {
      "text/plain": [
       "128893"
      ]
     },
     "execution_count": 6,
     "metadata": {},
     "output_type": "execute_result"
    }
   ],
   "source": [
    "df \\\n",
    "    .withColumn('pickup_date', F.to_date(df.tpep_pickup_datetime)) \\\n",
    "    .filter(\"pickup_date = '2024-10-15'\") \\\n",
    "    .count()"
   ]
  },
  {
   "cell_type": "code",
   "execution_count": 7,
   "id": "f14b341c-8979-4b6b-8fab-f72ae59eac04",
   "metadata": {},
   "outputs": [
    {
     "name": "stdout",
     "output_type": "stream",
     "text": [
      "root\n",
      " |-- VendorID: integer (nullable = true)\n",
      " |-- tpep_pickup_datetime: timestamp_ntz (nullable = true)\n",
      " |-- tpep_dropoff_datetime: timestamp_ntz (nullable = true)\n",
      " |-- passenger_count: long (nullable = true)\n",
      " |-- trip_distance: double (nullable = true)\n",
      " |-- RatecodeID: long (nullable = true)\n",
      " |-- store_and_fwd_flag: string (nullable = true)\n",
      " |-- PULocationID: integer (nullable = true)\n",
      " |-- DOLocationID: integer (nullable = true)\n",
      " |-- payment_type: long (nullable = true)\n",
      " |-- fare_amount: double (nullable = true)\n",
      " |-- extra: double (nullable = true)\n",
      " |-- mta_tax: double (nullable = true)\n",
      " |-- tip_amount: double (nullable = true)\n",
      " |-- tolls_amount: double (nullable = true)\n",
      " |-- improvement_surcharge: double (nullable = true)\n",
      " |-- total_amount: double (nullable = true)\n",
      " |-- congestion_surcharge: double (nullable = true)\n",
      " |-- Airport_fee: double (nullable = true)\n",
      "\n"
     ]
    }
   ],
   "source": [
    "df.printSchema()"
   ]
  },
  {
   "cell_type": "markdown",
   "id": "5852307b-7041-422b-87f5-f574f73a66a3",
   "metadata": {},
   "source": [
    "## Q4 What is the length of the longest trip in the dataset in hours?"
   ]
  },
  {
   "cell_type": "code",
   "execution_count": 26,
   "id": "877f09bc-383d-4098-a838-e9323b1dc0c4",
   "metadata": {},
   "outputs": [
    {
     "name": "stderr",
     "output_type": "stream",
     "text": [
      "                                                                                \r"
     ]
    },
    {
     "name": "stdout",
     "output_type": "stream",
     "text": [
      "+-----------+------------------+\n",
      "|pickup_date|      max_duration|\n",
      "+-----------+------------------+\n",
      "| 2024-10-16|162.61777777777777|\n",
      "| 2024-10-03|           143.325|\n",
      "| 2024-10-22|137.76055555555556|\n",
      "| 2024-10-18|114.83472222222223|\n",
      "| 2024-10-21| 89.89833333333333|\n",
      "+-----------+------------------+\n",
      "\n"
     ]
    }
   ],
   "source": [
    "from pyspark.sql.functions import unix_timestamp, to_date, max, count, asc\n",
    "\n",
    "#unix timestamp returns second, convert to hours by dividing by 3600\n",
    "df.withColumn(\n",
    "        \"trip_duration_hours\", \n",
    "        (unix_timestamp(\"tpep_dropoff_datetime\") - unix_timestamp(\"tpep_pickup_datetime\")) / 3600\n",
    "    ) \\\n",
    "    .withColumn(\"pickup_date\", to_date(\"tpep_pickup_datetime\")) \\\n",
    "    .groupBy(\"pickup_date\") \\\n",
    "    .agg(max(\"trip_duration_hours\").alias(\"max_duration\")) \\\n",
    "    .orderBy(\"max_duration\", ascending=False) \\\n",
    "    .limit(5) \\\n",
    "    .show()\n"
   ]
  },
  {
   "cell_type": "markdown",
   "id": "3f55cf22-eff4-4174-b190-112cee668dbd",
   "metadata": {},
   "source": [
    "## Q6 Using the zone lookup data and the Yellow October 2024 data, what is the name of the LEAST frequent pickup location Zone?"
   ]
  },
  {
   "cell_type": "code",
   "execution_count": 15,
   "id": "ba23d9b9-955d-43c4-b169-7e93df31df98",
   "metadata": {},
   "outputs": [],
   "source": [
    "df_zones = spark.read.parquet('zones')"
   ]
  },
  {
   "cell_type": "code",
   "execution_count": 16,
   "id": "74494a24-8ed0-4dba-8a7c-4a6439664ce4",
   "metadata": {},
   "outputs": [
    {
     "data": {
      "text/plain": [
       "['LocationID', 'Borough', 'Zone', 'service_zone']"
      ]
     },
     "execution_count": 16,
     "metadata": {},
     "output_type": "execute_result"
    }
   ],
   "source": [
    "df_zones.columns"
   ]
  },
  {
   "cell_type": "code",
   "execution_count": 17,
   "id": "24fc423d-a209-4368-ad26-0a5953e73441",
   "metadata": {},
   "outputs": [
    {
     "data": {
      "text/plain": [
       "['VendorID',\n",
       " 'tpep_pickup_datetime',\n",
       " 'tpep_dropoff_datetime',\n",
       " 'passenger_count',\n",
       " 'trip_distance',\n",
       " 'RatecodeID',\n",
       " 'store_and_fwd_flag',\n",
       " 'PULocationID',\n",
       " 'DOLocationID',\n",
       " 'payment_type',\n",
       " 'fare_amount',\n",
       " 'extra',\n",
       " 'mta_tax',\n",
       " 'tip_amount',\n",
       " 'tolls_amount',\n",
       " 'improvement_surcharge',\n",
       " 'total_amount',\n",
       " 'congestion_surcharge',\n",
       " 'Airport_fee']"
      ]
     },
     "execution_count": 17,
     "metadata": {},
     "output_type": "execute_result"
    }
   ],
   "source": [
    "df.columns"
   ]
  },
  {
   "cell_type": "code",
   "execution_count": 24,
   "id": "9d8a27a7-a424-436a-9c1f-b787e3291ffb",
   "metadata": {},
   "outputs": [
    {
     "name": "stdout",
     "output_type": "stream",
     "text": [
      "+--------------------+----------+---------+\n",
      "|                Zone|trip_count|  Borough|\n",
      "+--------------------+----------+---------+\n",
      "|Governor's Island...|         1|Manhattan|\n",
      "+--------------------+----------+---------+\n",
      "\n"
     ]
    }
   ],
   "source": [
    "df.groupBy(\"PULocationID\") \\\n",
    "    .agg(count(\"*\").alias(\"trip_count\")) \\\n",
    "    .orderBy(\"trip_count\", ascending=True) \\\n",
    "    .limit(1) \\\n",
    "    .join(df_zones, df.PULocationID == df_zones.LocationID) \\\n",
    "    .select(\"Zone\", \"trip_count\", \"Borough\") \\\n",
    "    .show()"
   ]
  },
  {
   "cell_type": "code",
   "execution_count": 29,
   "id": "693205c9-d3bc-4ef2-a394-c6c58546c788",
   "metadata": {},
   "outputs": [
    {
     "name": "stderr",
     "output_type": "stream",
     "text": [
      "[Stage 30:>                                                         (0 + 4) / 4]\r"
     ]
    },
    {
     "name": "stdout",
     "output_type": "stream",
     "text": [
      "+------------+---------+--------------------+------------+----------+\n",
      "|PULocationID|  Borough|                Zone|service_zone|trip_count|\n",
      "+------------+---------+--------------------+------------+----------+\n",
      "|         105|Manhattan|Governor's Island...| Yellow Zone|         1|\n",
      "+------------+---------+--------------------+------------+----------+\n",
      "\n"
     ]
    },
    {
     "name": "stderr",
     "output_type": "stream",
     "text": [
      "                                                                                \r"
     ]
    }
   ],
   "source": [
    "df \\\n",
    "    .join(df_zones, df.PULocationID == df_zones.LocationID) \\\n",
    "    .groupBy(\"PULocationID\", \"Borough\", \"Zone\", \"service_zone\") \\\n",
    "    .agg(count(\"*\").alias(\"trip_count\")) \\\n",
    "    .orderBy(asc(\"trip_count\")) \\\n",
    "    .limit(1) \\\n",
    "    .show()"
   ]
  },
  {
   "cell_type": "code",
   "execution_count": null,
   "id": "5029581e-9936-4d8e-90ae-c1eaf0bda075",
   "metadata": {},
   "outputs": [],
   "source": []
  },
  {
   "cell_type": "code",
   "execution_count": 33,
   "id": "e7527856-ad38-42e4-9fb5-ceaae053c6f0",
   "metadata": {},
   "outputs": [
    {
     "name": "stdout",
     "output_type": "stream",
     "text": [
      "+---------------------------------------------+----------+------------+---------+\n",
      "|Zone                                         |trip_count|PULocationID|Borough  |\n",
      "+---------------------------------------------+----------+------------+---------+\n",
      "|Governor's Island/Ellis Island/Liberty Island|1         |105         |Manhattan|\n",
      "+---------------------------------------------+----------+------------+---------+\n",
      "\n"
     ]
    }
   ],
   "source": [
    "pickup_counts = (\n",
    "    df.groupBy(\"PULocationID\")\n",
    "    .agg(count(\"*\").alias(\"trip_count\"))\n",
    ")\n",
    "\n",
    "# Find the least frequent pickup location\n",
    "least_frequent_pickup = pickup_counts.orderBy(asc(\"trip_count\")).limit(1)\n",
    "\n",
    "# Join with the zone lookup to get the zone name\n",
    "result = least_frequent_pickup.join(df_zones, pickup_counts.PULocationID == df_zones.LocationID) \\\n",
    "    .select(\"Zone\", \"trip_count\", \"PULocationID\", \"Borough\")\n",
    "result.show(truncate=False)"
   ]
  },
  {
   "cell_type": "code",
   "execution_count": null,
   "id": "6904e555-6e9e-457a-9dab-cb16a9c691af",
   "metadata": {},
   "outputs": [],
   "source": []
  }
 ],
 "metadata": {
  "kernelspec": {
   "display_name": "Python 3 (ipykernel)",
   "language": "python",
   "name": "python3"
  },
  "language_info": {
   "codemirror_mode": {
    "name": "ipython",
    "version": 3
   },
   "file_extension": ".py",
   "mimetype": "text/x-python",
   "name": "python",
   "nbconvert_exporter": "python",
   "pygments_lexer": "ipython3",
   "version": "3.12.7"
  }
 },
 "nbformat": 4,
 "nbformat_minor": 5
}
